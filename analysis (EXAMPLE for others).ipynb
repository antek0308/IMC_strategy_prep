{
 "cells": [
  {
   "cell_type": "code",
   "execution_count": null,
   "metadata": {},
   "outputs": [],
   "source": [
    "%matplotlib qt\n",
    "import pandas as pd\n",
    "import numpy as np\n",
    "import matplotlib.pyplot as plt\n",
    "import warnings\n",
    "warnings.filterwarnings(\"always\")"
   ]
  },
  {
   "cell_type": "markdown",
   "metadata": {},
   "source": [
    "### Notebook for an analysis"
   ]
  },
  {
   "cell_type": "code",
   "execution_count": 6,
   "metadata": {},
   "outputs": [],
   "source": [
    "instrument = \"AMETHYSTS\""
   ]
  },
  {
   "cell_type": "code",
   "execution_count": 9,
   "metadata": {},
   "outputs": [],
   "source": [
    "ob = pd.read_csv('data/activity_logs.csv', index_col='timestamp')\n",
    "ob = ob[ob['product'] == instrument]"
   ]
  },
  {
   "cell_type": "code",
   "execution_count": 10,
   "metadata": {},
   "outputs": [],
   "source": [
    "trades = pd.read_csv('data/trades.csv', index_col='timestamp')\n",
    "trades = trades[trades['symbol'] == instrument]\n",
    "\n",
    "my_buys = trades[trades['buyer'] == 'SUBMISSION']\n",
    "my_sells = trades[trades['seller'] == 'SUBMISSION']\n",
    "other_trades = trades[(trades['buyer'] != 'SUBMISSION') & (trades['seller'] != 'SUBMISSION')]"
   ]
  },
  {
   "cell_type": "code",
   "execution_count": 11,
   "metadata": {},
   "outputs": [
    {
     "data": {
      "image/png": "[encoded data removed]",
      "text/plain": [
       "<Figure size 1000x500 with 1 Axes>"
      ]
     },
     "metadata": {},
     "output_type": "display_data"
    }
   ],
   "source": [
    "# Here matplotlib qt is used for displaying graphs in different windows, etc. If you want to disable it, hash it above\n",
    "plt.figure(figsize=(10, 5))\n",
    "plt.plot(ob['bid_price_1'], label='bid_price')\n",
    "plt.plot(ob['ask_price_1'], label='ask_price')\n",
    "plt.scatter(my_buys.index, my_buys['price'], label='my_buys', color='green', marker='^')\n",
    "plt.scatter(my_sells.index, my_sells['price'], label='my_sells', color='red', marker='v')\n",
    "plt.scatter(other_trades.index, other_trades['price'], label='other_trades', color='blue', marker='o')\n",
    "plt.legend()\n",
    "plt.show()"
   ]
  },
  {
   "cell_type": "code",
   "execution_count": 12,
   "metadata": {},
   "outputs": [],
   "source": [
    "# here you can see how I calculated the mid. In general it is best to use VWAP (volume-weighted average price), so you also level 2 data, but you can decide whatever\n",
    "ob[\"mid\"] = (ob[\"bid_price_1\"] + ob[\"ask_price_1\"])/2\n",
    "ob[\"mid_lev2\"]= (ob[\"bid_price_2\"] + ob[\"ask_price_2\"])/2\n",
    "ob[\"weighted_mid\"]= (ob[\"bid_price_1\"] * ob[\"bid_volume_1\"] + ob[\"ask_price_1\"] * ob[\"ask_volume_1\"])/ (ob[\"bid_volume_1\"]+ob[\"ask_volume_1\"])\n",
    "\n",
    "ob[\"mid_fv_divergance\"] = ob[\"mid_lev2\"] - ob[\"mid\"]"
   ]
  },
  {
   "cell_type": "code",
   "execution_count": 13,
   "metadata": {},
   "outputs": [],
   "source": [
    "AMday0 = ob.query(\"day == 0\")\n",
    "AMday1 = ob.query(\"day == -1\")\n",
    "AMday2 = ob.query(\"day == -2\")"
   ]
  },
  {
   "cell_type": "code",
   "execution_count": 14,
   "metadata": {},
   "outputs": [
    {
     "name": "stderr",
     "output_type": "stream",
     "text": [
      "C:\\Users\\anton\\AppData\\Local\\Temp\\ipykernel_29648\\1463698232.py:1: SettingWithCopyWarning: \n",
      "A value is trying to be set on a copy of a slice from a DataFrame.\n",
      "Try using .loc[row_indexer,col_indexer] = value instead\n",
      "\n",
      "See the caveats in the documentation: https://pandas.pydata.org/pandas-docs/stable/user_guide/indexing.html#returning-a-view-versus-a-copy\n",
      "  AMday0[\"spread\"] = AMday0[\"bid_price_1\"] - AMday0[\"ask_price_1\"]\n",
      "C:\\Users\\anton\\AppData\\Local\\Temp\\ipykernel_29648\\1463698232.py:2: SettingWithCopyWarning: \n",
      "A value is trying to be set on a copy of a slice from a DataFrame.\n",
      "Try using .loc[row_indexer,col_indexer] = value instead\n",
      "\n",
      "See the caveats in the documentation: https://pandas.pydata.org/pandas-docs/stable/user_guide/indexing.html#returning-a-view-versus-a-copy\n",
      "  AMday1[\"spread\"] = AMday1[\"bid_price_1\"] - AMday1[\"ask_price_1\"]\n",
      "C:\\Users\\anton\\AppData\\Local\\Temp\\ipykernel_29648\\1463698232.py:3: SettingWithCopyWarning: \n",
      "A value is trying to be set on a copy of a slice from a DataFrame.\n",
      "Try using .loc[row_indexer,col_indexer] = value instead\n",
      "\n",
      "See the caveats in the documentation: https://pandas.pydata.org/pandas-docs/stable/user_guide/indexing.html#returning-a-view-versus-a-copy\n",
      "  AMday2[\"spread\"] = AMday2[\"bid_price_1\"] - AMday2[\"ask_price_1\"]\n"
     ]
    }
   ],
   "source": [
    "AMday0[\"spread\"] = AMday0[\"bid_price_1\"] - AMday0[\"ask_price_1\"]\n",
    "AMday1[\"spread\"] = AMday1[\"bid_price_1\"] - AMday1[\"ask_price_1\"]\n",
    "AMday2[\"spread\"] = AMday2[\"bid_price_1\"] - AMday2[\"ask_price_1\"]"
   ]
  }
 ],
 "metadata": {
  "kernelspec": {
   "display_name": "research",
   "language": "python",
   "name": "python3"
  },
  "language_info": {
   "codemirror_mode": {
    "name": "ipython",
    "version": 3
   },
   "file_extension": ".py",
   "mimetype": "text/x-python",
   "name": "python",
   "nbconvert_exporter": "python",
   "pygments_lexer": "ipython3",
   "version": "3.10.12"
  }
 },
 "nbformat": 4,
 "nbformat_minor": 2
}
